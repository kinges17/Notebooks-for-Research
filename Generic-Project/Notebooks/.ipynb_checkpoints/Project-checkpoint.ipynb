{
 "cells": [
  {
   "cell_type": "markdown",
   "metadata": {},
   "source": [
    "# Title\n",
    "### Name\n",
    "\n",
    "Give an introduction here. Provide context to the research you will or have conducted: why is it important, what insights did you find, what's the story behind your data?"
   ]
  },
  {
   "cell_type": "markdown",
   "metadata": {},
   "source": [
    "## Getting Started\n",
    "\n",
    "Let's start by importing any libraries we may need. Feel free to add any additional ones or python files you want to use."
   ]
  },
  {
   "cell_type": "code",
   "execution_count": null,
   "metadata": {},
   "outputs": [],
   "source": [
    "# import any relevant libraries or python files\n",
    "import pandas as pd\n",
    "import numpy as np\n",
    "import math\n",
    "import matplotlib.pyplot as plt"
   ]
  },
  {
   "cell_type": "markdown",
   "metadata": {},
   "source": [
    "Load your data here. Don't forget to give the source and describe any relevant details about how data was collected!"
   ]
  },
  {
   "cell_type": "code",
   "execution_count": null,
   "metadata": {},
   "outputs": [],
   "source": [
    "# create a dataframe (df) that contains all the data in <filename>\n",
    "\n",
    "# if <filename> has a .csv file extension, use the following\n",
    "df = pd.read_csv(\"../data/filename.csv\")\n",
    "\n",
    "# if <filename> has a .xls or .xlsx file extension, use this\n",
    "df = pd.read_excel(\"../data/filename.xlsx\")"
   ]
  },
  {
   "cell_type": "markdown",
   "metadata": {},
   "source": [
    "Note that in the above functions, <tt>../data/</tt> means that the data is in the data directory. If your data is not in this directory, then move it there. If you have changed the name of the data directory, say to <tt>Data</tt>, then make sure to also change this path to <tt>../Data/</tt>. Lastly, check that the name of the file your data is in exactly matches the with which text you replace <tt>filename...</tt>.\n",
    "\n",
    "Delete this text box when you're done by clicking on the text, then clicking the d key twice. If this box is outlined in green, it means it's editable - simple click within the green frame, but to the left of the text box to change the edit mode. For more tips and tricks using Jupyter notebooks, click the <tt>Help</tt> drop down menu. "
   ]
  },
  {
   "cell_type": "markdown",
   "metadata": {},
   "source": [
    "Let's take a look at the data!"
   ]
  },
  {
   "cell_type": "code",
   "execution_count": null,
   "metadata": {},
   "outputs": [],
   "source": [
    "# the head function in python prints the first number of \n",
    "# elements specified by the number in the parentheses\n",
    "df.head(10)"
   ]
  },
  {
   "cell_type": "markdown",
   "metadata": {},
   "source": [
    "Check if in the dataframe generated from the above, the column names contain the data from the first row, ie. a value in place of <tt>ID</tt> or <tt>STATUS</tt>. If the columns names are in fact data, then you have two options: add a header row manually (insert a row at the top of your data file and name each column) or through python!\n",
    "\n",
    "The code cell below shows how to do this using python. If your file was not in csv, then make sure to change <tt>read_csv</tt> to <tt>read_excel</tt> as you have it above! Then, simply delete the <tt>#</tt> and space preceding each line (except the first two lines), then click <tt>Kernel -> Restart &amp; Run All</tt>."
   ]
  },
  {
   "cell_type": "code",
   "execution_count": null,
   "metadata": {},
   "outputs": [],
   "source": [
    "# reload the data and name the columns, change col1 etc. to\n",
    "# names appropriate to your data. Make sure you name each column!\n",
    "df = pd.read_csv(\"../data/filename.csv\", header=None)\n",
    "df.columns = [\"col1\", \"col2\", \"col3\"]"
   ]
  },
  {
   "cell_type": "markdown",
   "metadata": {},
   "source": [
    "Now, let's make sure that the data is the correct type. Here's a brief rundown on types:\n",
    "<ul>\n",
    "    <li>Is it an integer? Its type is: <tt>int</tt></li>\n",
    "    <li>Is it a number with a decimal? Its type is: <tt>float</tt></li>\n",
    "    <li>Is it a date? Its type is: <tt>datetime64</tt></li>\n",
    "    <li>Is it a letter, word, or a sequence of words? Its type is: <tt>string</tt>, which is an <tt>object</tt> in a dataframe (no type conversion required)</li>\n",
    "</ul>\n",
    "\n",
    "The following code cell shows what pandas detects a column type to be. If all columns are correctly represented, then you're ready to begin analysis! Otherwise, follow the next cell to convert a column to its corresponding type."
   ]
  },
  {
   "cell_type": "code",
   "execution_count": null,
   "metadata": {},
   "outputs": [],
   "source": [
    "# convert a column (called col_name) to a datetime object (in day \n",
    "# month year format), dates that do not match the expected format\n",
    "# are coerced into NaT (not a time)\n",
    "df[col_name] = pd.to_datetime(df[col_name], format='%d%m%y', errors='coerce')\n",
    "\n",
    "# convert a column (called col_name) to a number, forcing non-numbers\n",
    "# to NaN (not a number)\n",
    "df[col_name] = pd.to_numberic(df[col_name], errors='coerce')"
   ]
  },
  {
   "cell_type": "markdown",
   "metadata": {},
   "source": [
    "If your dataset contains \"Yes\" and \"No\" values (or any binary options) and you would like to convert the column to boolean or int type, change the following excerpt of code as needed."
   ]
  },
  {
   "cell_type": "code",
   "execution_count": null,
   "metadata": {},
   "outputs": [],
   "source": [
    "# convert \"Yes\" and \"No\" to True and False\n",
    "df[col_name] = df[col_name].map({'Yes': True, 'No': False})\n",
    "\n",
    "# convert \"Male\", \"Female\" and \"Prefer not to say\" to 0, 1 and 2\n",
    "gender_dictionary = {'Male': 0, 'Female': 1, 'Prefer not to say': 2}\n",
    "df[col_name] = df[col_name].map(genderDictionary)"
   ]
  },
  {
   "cell_type": "markdown",
   "metadata": {},
   "source": [
    "## Analysis and More Demos\n",
    "\n",
    "There are more example notebooks in the <tt>Getting Started</tt> and <tt>Demos</tt> folders including:\n",
    "<ul>\n",
    "    <li><a href=\"https://github.com/kinges17/Jupyter-Project/tree/master/Getting-Started/Jupyter-and-Python-Tutorials\">How to use Python</a></li>\n",
    "    <li><a href=\"https://github.com/kinges17/Jupyter-Project/tree/master/Getting-Started/R-in-Notebooks\">How to use R</a></li>\n",
    "    <li><a href=\"https://github.com/kinges17/Jupyter-Project/tree/master/Getting-Started\">Binder and Azure Notebookes</a></li>\n",
    "    <li><a href=\"https://github.com/kinges17/Jupyter-Project/tree/master/Demos\">Data science example projects</a></li>\n",
    "    <li><a href=\"https://github.com/kinges17/Jupyter-Project/tree/master/Demos\">Descriptive statistics in a notebook</a></li>\n",
    "    <li>... and more</li>\n",
    "</ul>\n",
    "\n",
    "Hope this is enough to get you started!"
   ]
  }
 ],
 "metadata": {
  "kernelspec": {
   "display_name": "Python 3",
   "language": "python",
   "name": "python3"
  },
  "language_info": {
   "codemirror_mode": {
    "name": "ipython",
    "version": 3
   },
   "file_extension": ".py",
   "mimetype": "text/x-python",
   "name": "python",
   "nbconvert_exporter": "python",
   "pygments_lexer": "ipython3",
   "version": "3.7.3"
  }
 },
 "nbformat": 4,
 "nbformat_minor": 2
}
