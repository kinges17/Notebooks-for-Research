{
 "cells": [
  {
   "cell_type": "markdown",
   "metadata": {},
   "source": [
    "# Custom Display Logic Exercises"
   ]
  },
  {
   "cell_type": "code",
   "execution_count": 4,
   "metadata": {},
   "outputs": [],
   "source": [
    "from IPython.display import display\n",
    "from IPython.display import (\n",
    "    display_png, display_html, display_latex,\n",
    "    display_javascript, display_svg\n",
    ")"
   ]
  },
  {
   "cell_type": "markdown",
   "metadata": {},
   "source": [
    "## Circle class with custom display methods"
   ]
  },
  {
   "cell_type": "markdown",
   "metadata": {},
   "source": [
    "Write a simple `MyCircle` Python class. Here is a skeleton to get you started:\n",
    "\n",
    "```python\n",
    "class MyCircle(object):\n",
    "    def __init__(self, center=(0.0,0.0), radius=1.0, color='blue'):\n",
    "        self.center = center\n",
    "        self.radius = radius\n",
    "        self.color = color\n",
    "```\n",
    "\n",
    "Now add special display methods to this class for the following representations (remember to wrap them in Python strings):\n",
    "\n",
    "For HTML:\n",
    "\n",
    "    &#x25CB;\n",
    "\n",
    "For LaTeX (wrap with `$` and use a raw Python string):\n",
    "\n",
    "    \\bigcirc\n",
    "\n",
    "For JavaScript:\n",
    "\n",
    "    alert('I am a circle!');\n",
    "\n",
    "After you write the class, create an instance and then use `display_html`, `display_svg`, `display_latex` and `display_javascript` to display those representations."
   ]
  },
  {
   "cell_type": "markdown",
   "metadata": {},
   "source": [
    "### Solution"
   ]
  },
  {
   "cell_type": "markdown",
   "metadata": {},
   "source": [
    "Here is the solution to the simple `MyCircle` class:"
   ]
  },
  {
   "cell_type": "code",
   "execution_count": 5,
   "metadata": {},
   "outputs": [],
   "source": [
    "# %load soln/mycircle.py\n",
    "class MyCircle(object):\n",
    "\n",
    "    def __init__(self, center=(0.0,0.0), radius=1.0, color='blue'):\n",
    "        self.center = center\n",
    "        self.radius = radius\n",
    "        self.color = color\n",
    "\n",
    "    def _repr_html_(self):\n",
    "        return \"&#x25CB; (<b>html</b>)\"\n",
    "\n",
    "    # Let's ignore that for now due to a bug in JupyterLab\n",
    "    # def _repr_svg_(self):\n",
    "    #     return \"\"\"<svg width=\"100px\" height=\"100px\">\n",
    "    #        <circle cx=\"50\" cy=\"50\" r=\"20\" stroke=\"black\" stroke-width=\"1\" fill=\"blue\"/>\n",
    "    #     </svg>\"\"\"\n",
    "    \n",
    "    def _repr_latex_(self):\n",
    "        return r\"$\\bigcirc \\LaTeX$\"\n"
   ]
  },
  {
   "cell_type": "markdown",
   "metadata": {},
   "source": [
    "Now create an instance and use the display methods:"
   ]
  },
  {
   "cell_type": "code",
   "execution_count": 6,
   "metadata": {},
   "outputs": [],
   "source": [
    "c = MyCircle()"
   ]
  },
  {
   "cell_type": "code",
   "execution_count": 7,
   "metadata": {},
   "outputs": [
    {
     "data": {
      "text/html": [
       "&#x25CB; (<b>html</b>)"
      ],
      "text/latex": [
       "$\\bigcirc \\LaTeX$"
      ],
      "text/plain": [
       "<__main__.MyCircle at 0x1cf75978630>"
      ]
     },
     "metadata": {},
     "output_type": "display_data"
    }
   ],
   "source": [
    "display(c)"
   ]
  },
  {
   "cell_type": "code",
   "execution_count": 8,
   "metadata": {},
   "outputs": [
    {
     "data": {
      "text/html": [
       "&#x25CB; (<b>html</b>)"
      ]
     },
     "metadata": {},
     "output_type": "display_data"
    }
   ],
   "source": [
    "display_html(c)"
   ]
  },
  {
   "cell_type": "code",
   "execution_count": 9,
   "metadata": {},
   "outputs": [
    {
     "data": {
      "text/latex": [
       "$\\bigcirc \\LaTeX$"
      ]
     },
     "metadata": {},
     "output_type": "display_data"
    }
   ],
   "source": [
    "display_latex(c)"
   ]
  },
  {
   "cell_type": "markdown",
   "metadata": {},
   "source": [
    "## PNG formatter for `MyCircle`"
   ]
  },
  {
   "cell_type": "code",
   "execution_count": 10,
   "metadata": {},
   "outputs": [],
   "source": [
    "%matplotlib inline\n",
    "from matplotlib import pyplot as plt"
   ]
  },
  {
   "cell_type": "markdown",
   "metadata": {},
   "source": [
    "Now let's assume that the `MyCircle` class has already been defined and add a PNG representation using a formatter display function. Here is a function that converts a `MyCircle` instance to raw PNG data."
   ]
  },
  {
   "cell_type": "code",
   "execution_count": 13,
   "metadata": {},
   "outputs": [],
   "source": [
    "from IPython.core.pylabtools import print_figure\n",
    "\n",
    "def circle_to_png(circle):\n",
    "    \"\"\"Render AnotherCircle to png data using matplotlib\"\"\"\n",
    "    fig, ax = plt.subplots()\n",
    "    patch = plt.Circle(circle.center,\n",
    "                       radius=circle.radius,\n",
    "                       fc=circle.color,\n",
    "                       )\n",
    "    ax.add_patch(patch)\n",
    "    plt.axis('scaled')\n",
    "    data = print_figure(fig, 'png')\n",
    "    # We MUST close the figure, otherwise IPython's display machinery\n",
    "    # will pick it up and send it as output, resulting in a double display\n",
    "    plt.close(fig)\n",
    "    return data"
   ]
  },
  {
   "cell_type": "markdown",
   "metadata": {},
   "source": [
    "Now use the IPython API to get the PNG formatter (`image/png`) and call the `for_type` method to register `circle_to_png` as the display function for `MyCircle`."
   ]
  },
  {
   "cell_type": "code",
   "execution_count": 14,
   "metadata": {},
   "outputs": [],
   "source": [
    "# %load soln/mycircle_png.py\n",
    "ip = get_ipython()\n",
    "png_f = ip.display_formatter.formatters['image/png']\n",
    "png_f.for_type(MyCircle, circle_to_png)"
   ]
  },
  {
   "cell_type": "code",
   "execution_count": 15,
   "metadata": {},
   "outputs": [
    {
     "data": {
      "image/png": "[encoded data removed]"
     },
     "metadata": {},
     "output_type": "display_data"
    }
   ],
   "source": [
    "display_png(c)"
   ]
  },
  {
   "cell_type": "markdown",
   "metadata": {},
   "source": [
    "## PNG formatter for NumPy arrays"
   ]
  },
  {
   "cell_type": "markdown",
   "metadata": {},
   "source": [
    "In this exercise, you will register a display formatter function that generates a PNG representation of a 2d NumPy array. Here is the function that uses the [Python Imaging Library (PIL)](http://www.pythonware.com/products/pil/) to generate the raw PNG data:"
   ]
  },
  {
   "cell_type": "code",
   "execution_count": 19,
   "metadata": {},
   "outputs": [],
   "source": [
    "from PIL import Image\n",
    "from io import BytesIO\n",
    "import numpy as np\n",
    "\n",
    "def ndarray_to_png(x):\n",
    "    if len(x.shape) != 2: return\n",
    "    x = np.asarray(Image.fromarray(x).resize((500, 500)))\n",
    "    x = (x - x.min()) / (x.max() - x.min())\n",
    "    img = Image.fromarray((x*256).astype('uint8'))\n",
    "    img_buffer = BytesIO()\n",
    "    img.save(img_buffer, format='png')\n",
    "    return img_buffer.getvalue()"
   ]
  },
  {
   "cell_type": "markdown",
   "metadata": {},
   "source": [
    "Use the `for_type` method of the PNG formatter to register `ndarray_to_png` as the display function for `np.ndarray`."
   ]
  },
  {
   "cell_type": "code",
   "execution_count": 20,
   "metadata": {},
   "outputs": [],
   "source": [
    "# %load soln/ndarray_png.py\n",
    "ip = get_ipython()\n",
    "png_f = ip.display_formatter.formatters['image/png']\n",
    "png_f.for_type(np.ndarray, ndarray_to_png)"
   ]
  },
  {
   "cell_type": "markdown",
   "metadata": {},
   "source": [
    "Now create a few NumPy arrays and display them. Notice that their default representation in the Notebook is PNG rather than text."
   ]
  },
  {
   "cell_type": "code",
   "execution_count": 21,
   "metadata": {},
   "outputs": [],
   "source": [
    "a = np.random.rand(100,100)"
   ]
  },
  {
   "cell_type": "code",
   "execution_count": 22,
   "metadata": {},
   "outputs": [
    {
     "data": {
      "image/png": "[encoded data removed]",
      "text/plain": [
       "array([[0.92967279, 0.48750564, 0.1064083 , ..., 0.57348636, 0.81714701,\n",
       "        0.99025104],\n",
       "       [0.03006144, 0.77769092, 0.91105647, ..., 0.52540871, 0.49724196,\n",
       "        0.34917279],\n",
       "       [0.17264236, 0.49992543, 0.07619001, ..., 0.18225836, 0.9536891 ,\n",
       "        0.29700476],\n",
       "       ...,\n",
       "       [0.36919322, 0.25921404, 0.46091289, ..., 0.93881815, 0.54034554,\n",
       "        0.55480612],\n",
       "       [0.49305754, 0.7522481 , 0.24159777, ..., 0.66186384, 0.65978332,\n",
       "        0.92546111],\n",
       "       [0.84391833, 0.43041799, 0.25084929, ..., 0.98915604, 0.19071223,\n",
       "        0.94714139]])"
      ]
     },
     "execution_count": 22,
     "metadata": {},
     "output_type": "execute_result"
    }
   ],
   "source": [
    "a"
   ]
  },
  {
   "cell_type": "markdown",
   "metadata": {},
   "source": [
    "You can still display the plain text representation using the `display_pretty` function."
   ]
  },
  {
   "cell_type": "code",
   "execution_count": 23,
   "metadata": {},
   "outputs": [],
   "source": [
    "from IPython.display import display_pretty"
   ]
  },
  {
   "cell_type": "code",
   "execution_count": 24,
   "metadata": {},
   "outputs": [
    {
     "data": {
      "text/plain": [
       "array([[0.92967279, 0.48750564, 0.1064083 , ..., 0.57348636, 0.81714701,\n",
       "        0.99025104],\n",
       "       [0.03006144, 0.77769092, 0.91105647, ..., 0.52540871, 0.49724196,\n",
       "        0.34917279],\n",
       "       [0.17264236, 0.49992543, 0.07619001, ..., 0.18225836, 0.9536891 ,\n",
       "        0.29700476],\n",
       "       ...,\n",
       "       [0.36919322, 0.25921404, 0.46091289, ..., 0.93881815, 0.54034554,\n",
       "        0.55480612],\n",
       "       [0.49305754, 0.7522481 , 0.24159777, ..., 0.66186384, 0.65978332,\n",
       "        0.92546111],\n",
       "       [0.84391833, 0.43041799, 0.25084929, ..., 0.98915604, 0.19071223,\n",
       "        0.94714139]])"
      ]
     },
     "metadata": {},
     "output_type": "display_data"
    }
   ],
   "source": [
    "display_pretty(a)"
   ]
  },
  {
   "cell_type": "code",
   "execution_count": 25,
   "metadata": {},
   "outputs": [],
   "source": [
    "b = np.linspace(0,100.0, 100**2).reshape((100,100))"
   ]
  },
  {
   "cell_type": "code",
   "execution_count": 26,
   "metadata": {},
   "outputs": [
    {
     "data": {
      "image/png": "[encoded data removed]",
      "text/plain": [
       "array([[0.00000000e+00, 1.00010001e-02, 2.00020002e-02, ...,\n",
       "        9.70097010e-01, 9.80098010e-01, 9.90099010e-01],\n",
       "       [1.00010001e+00, 1.01010101e+00, 1.02010201e+00, ...,\n",
       "        1.97019702e+00, 1.98019802e+00, 1.99019902e+00],\n",
       "       [2.00020002e+00, 2.01020102e+00, 2.02020202e+00, ...,\n",
       "        2.97029703e+00, 2.98029803e+00, 2.99029903e+00],\n",
       "       ...,\n",
       "       [9.70097010e+01, 9.70197020e+01, 9.70297030e+01, ...,\n",
       "        9.79797980e+01, 9.79897990e+01, 9.79998000e+01],\n",
       "       [9.80098010e+01, 9.80198020e+01, 9.80298030e+01, ...,\n",
       "        9.89798980e+01, 9.89898990e+01, 9.89999000e+01],\n",
       "       [9.90099010e+01, 9.90199020e+01, 9.90299030e+01, ...,\n",
       "        9.99799980e+01, 9.99899990e+01, 1.00000000e+02]])"
      ]
     },
     "execution_count": 26,
     "metadata": {},
     "output_type": "execute_result"
    }
   ],
   "source": [
    "b"
   ]
  },
  {
   "cell_type": "code",
   "execution_count": null,
   "metadata": {},
   "outputs": [],
   "source": []
  }
 ],
 "metadata": {
  "kernelspec": {
   "display_name": "Python 3",
   "language": "python",
   "name": "python3"
  },
  "language_info": {
   "codemirror_mode": {
    "name": "ipython",
    "version": 3
   },
   "file_extension": ".py",
   "mimetype": "text/x-python",
   "name": "python",
   "nbconvert_exporter": "python",
   "pygments_lexer": "ipython3",
   "version": "3.7.3"
  }
 },
 "nbformat": 4,
 "nbformat_minor": 2
}
